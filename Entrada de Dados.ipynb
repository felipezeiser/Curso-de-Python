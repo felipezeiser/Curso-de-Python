{
 "cells": [
  {
   "attachments": {},
   "cell_type": "markdown",
   "metadata": {},
   "source": [
    "# Tarefa 1\n",
    "\n",
    "Você foi desafiado a construir um software de venda de produtos para a loja do seu pai. A primeira tarefa é realizar a leitura do produto, seu preço e a quantidade adquirida pelo cliente atual. O seu software necessita, por enquanto, ler apenas um produto por vez. \n",
    "\n",
    "Vamos lá?"
   ]
  },
  {
   "attachments": {},
   "cell_type": "markdown",
   "metadata": {},
   "source": [
    "é um software para venda de produtos\n",
    "\n",
    "ler: produto, preço e quantidade\n",
    "\n",
    "ler um produto"
   ]
  },
  {
   "cell_type": "code",
   "execution_count": 2,
   "metadata": {},
   "outputs": [],
   "source": [
    "nome_produto = input(\"Insira o nome do produto:\")\n",
    "preco_produto = float(input(\"Insira o preço do produto:\"))\n",
    "qnt_produto = int(input(\"Insira a quantidade de itens do produto:\"))"
   ]
  },
  {
   "cell_type": "code",
   "execution_count": 3,
   "metadata": {},
   "outputs": [
    {
     "name": "stdout",
     "output_type": "stream",
     "text": [
      "Preço total da compra é: 13.5\n",
      "Preço total da compra é: 13.5\n"
     ]
    }
   ],
   "source": [
    "preco_total = qnt_produto * preco_produto\n",
    "\n",
    "print(\"Preço total da compra é:\", preco_total)\n",
    "print('Preço total da compra é:', preco_total)"
   ]
  },
  {
   "cell_type": "code",
   "execution_count": null,
   "metadata": {},
   "outputs": [],
   "source": []
  }
 ],
 "metadata": {
  "kernelspec": {
   "display_name": "Python 3",
   "language": "python",
   "name": "python3"
  },
  "language_info": {
   "codemirror_mode": {
    "name": "ipython",
    "version": 3
   },
   "file_extension": ".py",
   "mimetype": "text/x-python",
   "name": "python",
   "nbconvert_exporter": "python",
   "pygments_lexer": "ipython3",
   "version": "3.10.10"
  },
  "orig_nbformat": 4
 },
 "nbformat": 4,
 "nbformat_minor": 2
}
