{
 "cells": [
  {
   "attachments": {},
   "cell_type": "markdown",
   "metadata": {},
   "source": [
    "# Tarefa 2\n",
    "\n",
    "Construa um software que faça a leitura de dois números decimais (número com \"vírgula\"). Armaze o valor lido em duas variáveis chamadas A e B. Após, realize a soma, subtração, multiplicação e divisão entre A e B. Além disso, calcule o quadrado das variáveis A e B."
   ]
  },
  {
   "cell_type": "code",
   "execution_count": 1,
   "metadata": {},
   "outputs": [
    {
     "name": "stdout",
     "output_type": "stream",
     "text": [
      "Soma de A e B:  10.0\n",
      "Subtração de A e B:  -3.0\n",
      "Multiplicação de A e B:  22.75\n",
      "Divisão de A e B:  0.5384615384615384\n"
     ]
    }
   ],
   "source": [
    "A = float(input(\"Digite o valor de A:\"))\n",
    "B = float(input(\"Digite o valor de B:\"))\n",
    "\n",
    "soma = A + B\n",
    "subtracao = A - B\n",
    "multiplicacao = A * B\n",
    "divisao = A / B\n",
    "\n",
    "print(\"Soma de A e B: \", soma)\n",
    "print(\"Subtração de A e B: \", subtracao)\n",
    "print(\"Multiplicação de A e B: \", multiplicacao)\n",
    "print(\"Divisão de A e B: \", divisao)"
   ]
  },
  {
   "cell_type": "code",
   "execution_count": 4,
   "metadata": {},
   "outputs": [
    {
     "name": "stdout",
     "output_type": "stream",
     "text": [
      "O quadrado de A é:  12.25\n",
      "O quadrado de B é:  42.25\n"
     ]
    }
   ],
   "source": [
    "quadrado_A = A ** 2\n",
    "quadrado_B = B ** 2\n",
    "\n",
    "print(\"O quadrado de A é: \", quadrado_A)\n",
    "print(\"O quadrado de B é: \", quadrado_B)"
   ]
  },
  {
   "cell_type": "code",
   "execution_count": null,
   "metadata": {},
   "outputs": [],
   "source": []
  }
 ],
 "metadata": {
  "kernelspec": {
   "display_name": "Python 3",
   "language": "python",
   "name": "python3"
  },
  "language_info": {
   "codemirror_mode": {
    "name": "ipython",
    "version": 3
   },
   "file_extension": ".py",
   "mimetype": "text/x-python",
   "name": "python",
   "nbconvert_exporter": "python",
   "pygments_lexer": "ipython3",
   "version": "3.10.10"
  },
  "orig_nbformat": 4
 },
 "nbformat": 4,
 "nbformat_minor": 2
}
