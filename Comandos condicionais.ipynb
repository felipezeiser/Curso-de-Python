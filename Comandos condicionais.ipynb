{
 "cells": [
  {
   "attachments": {},
   "cell_type": "markdown",
   "metadata": {},
   "source": [
    "# Tarefa 1\n",
    "\n",
    "Crie um software para ler a idade de uma pessoa e imprimir se ela é menor de idade ou não"
   ]
  },
  {
   "cell_type": "code",
   "execution_count": 4,
   "metadata": {},
   "outputs": [
    {
     "name": "stdout",
     "output_type": "stream",
     "text": [
      "É maior de idade\n",
      "Eu estou do fora do if\n"
     ]
    }
   ],
   "source": [
    "idade = int(input(\"Digite sua idade:\"))\n",
    "\n",
    "# if <variavel 1> <comando de comparacao> <variavel 2>:\n",
    "\n",
    "if idade < 18:\n",
    "    print(\"É menor de idade\")\n",
    "    print(\"Eu estou dentro do if\")\n",
    "else:\n",
    "    print(\"É maior de idade\")\n",
    "\n",
    "print(\"Eu estou do fora do if\")\n"
   ]
  },
  {
   "attachments": {},
   "cell_type": "markdown",
   "metadata": {},
   "source": [
    "# Tarefa 2\n",
    "\n",
    "Crie um software para ler a idade de uma pessoa e imprimir se ela é menor de idade, adulta ou idosa"
   ]
  },
  {
   "cell_type": "code",
   "execution_count": 9,
   "metadata": {},
   "outputs": [
    {
     "name": "stdout",
     "output_type": "stream",
     "text": [
      "É idoso\n"
     ]
    }
   ],
   "source": [
    "idade = int(input(\"Digite sua idade:\"))\n",
    "\n",
    "if idade < 18:\n",
    "    print(\"É menor de idade\")\n",
    "elif idade < 60:\n",
    "    print(\"É adulto\")\n",
    "else:\n",
    "    print(\"É idoso\")"
   ]
  }
 ],
 "metadata": {
  "kernelspec": {
   "display_name": "Python 3",
   "language": "python",
   "name": "python3"
  },
  "language_info": {
   "codemirror_mode": {
    "name": "ipython",
    "version": 3
   },
   "file_extension": ".py",
   "mimetype": "text/x-python",
   "name": "python",
   "nbconvert_exporter": "python",
   "pygments_lexer": "ipython3",
   "version": "3.10.10"
  },
  "orig_nbformat": 4
 },
 "nbformat": 4,
 "nbformat_minor": 2
}
