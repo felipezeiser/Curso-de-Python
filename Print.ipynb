{
 "cells": [
  {
   "attachments": {},
   "cell_type": "markdown",
   "metadata": {},
   "source": [
    "#### Como formatar variáveis com o print"
   ]
  },
  {
   "cell_type": "code",
   "execution_count": 6,
   "metadata": {},
   "outputs": [
    {
     "name": "stdout",
     "output_type": "stream",
     "text": [
      "João\n"
     ]
    }
   ],
   "source": [
    "nome = \"João\"\n",
    "idade = 26\n",
    "altura = 1.835\n",
    "\n",
    "print(nome)"
   ]
  },
  {
   "cell_type": "code",
   "execution_count": 8,
   "metadata": {},
   "outputs": [
    {
     "name": "stdout",
     "output_type": "stream",
     "text": [
      "Olá, meu nome é João e tenho 26 anos\n",
      "Printando com duas casas decimais: 1.83 metros de altura\n"
     ]
    }
   ],
   "source": [
    "# Formatação com f-strings\n",
    "\n",
    "print(f\"Olá, meu nome é {nome} e tenho {idade} anos\")\n",
    "\n",
    "print(f\"Printando com duas casas decimais: {altura:.2f} metros de altura\")"
   ]
  },
  {
   "cell_type": "code",
   "execution_count": 10,
   "metadata": {},
   "outputs": [
    {
     "name": "stdout",
     "output_type": "stream",
     "text": [
      "Olá, meu nome é João e tenho 26 anos\n",
      "Printando com duas casas decimais: 1.83 metros de altura\n"
     ]
    }
   ],
   "source": [
    "# Formatação com placeholders\n",
    "\n",
    "print(\"Olá, meu nome é %s e tenho %d anos\" % (nome, idade))\n",
    "\n",
    "print(\"Printando com duas casas decimais: %.2f metros de altura\" % altura)"
   ]
  },
  {
   "cell_type": "code",
   "execution_count": 11,
   "metadata": {},
   "outputs": [
    {
     "name": "stdout",
     "output_type": "stream",
     "text": [
      "Meu nome é João e tenho 26 anos\n",
      "Printando com duas casas decimais: 1.83 metros de altura\n"
     ]
    }
   ],
   "source": [
    "# Formatação com format\n",
    "\n",
    "print(\"Meu nome é {0} e tenho {1} anos\".format(nome, idade))\n",
    "\n",
    "print(\"Printando com duas casas decimais: {0:.2f} metros de altura\".format(altura))"
   ]
  },
  {
   "cell_type": "code",
   "execution_count": 12,
   "metadata": {},
   "outputs": [
    {
     "name": "stdout",
     "output_type": "stream",
     "text": [
      "Meu nome é João e tenho 26 anos\n"
     ]
    }
   ],
   "source": [
    "print(\"Meu nome é\", nome, \"e tenho\", idade, \"anos\")"
   ]
  },
  {
   "cell_type": "code",
   "execution_count": null,
   "metadata": {},
   "outputs": [],
   "source": []
  }
 ],
 "metadata": {
  "kernelspec": {
   "display_name": "Python 3",
   "language": "python",
   "name": "python3"
  },
  "language_info": {
   "codemirror_mode": {
    "name": "ipython",
    "version": 3
   },
   "file_extension": ".py",
   "mimetype": "text/x-python",
   "name": "python",
   "nbconvert_exporter": "python",
   "pygments_lexer": "ipython3",
   "version": "3.10.10"
  },
  "orig_nbformat": 4
 },
 "nbformat": 4,
 "nbformat_minor": 2
}
